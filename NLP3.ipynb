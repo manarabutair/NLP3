{
  "nbformat": 4,
  "nbformat_minor": 0,
  "metadata": {
    "colab": {
      "provenance": []
    },
    "kernelspec": {
      "name": "python3",
      "display_name": "Python 3"
    },
    "language_info": {
      "name": "python"
    }
  },
  "cells": [
    {
      "cell_type": "code",
      "execution_count": null,
      "metadata": {
        "id": "IMgsID61daT0"
      },
      "outputs": [],
      "source": [
        "import streamlit as st\n",
        "import pandas as pd\n",
        "import numpy as np\n",
        "import nltk\n",
        "import string\n",
        "import re\n",
        "from nltk.corpus import stopwords\n",
        "from nltk.tokenize import word_tokenize\n",
        "from nltk.stem import WordNetLemmatizer\n",
        "from sklearn.feature_extraction.text import TfidfVectorizer\n",
        "from sklearn.metrics.pairwise import cosine_similarity\n",
        "\n",
        "nltk.download('punkt')\n",
        "nltk.download('stopwords')\n",
        "nltk.download('wordnet')\n",
        "\n",
        "# Load datasets\n",
        "@st.cache_data\n",
        "def load_data():\n",
        "    resume_df = pd.read_csv(\"Resume.csv\")\n",
        "    job_df = pd.read_csv(\"Training.csv\")\n",
        "    return resume_df, job_df\n",
        "\n",
        "resume_df, job_df = load_data()\n",
        "\n",
        "# Preprocessing function\n",
        "def preprocess_text(text):\n",
        "    text = text.lower()\n",
        "    text = re.sub(f\"[{string.punctuation}]\", \"\", text)\n",
        "    tokens = word_tokenize(text)\n",
        "    tokens = [word for word in tokens if word not in stopwords.words('english')]\n",
        "    lemmatizer = WordNetLemmatizer()\n",
        "    tokens = [lemmatizer.lemmatize(word) for word in tokens]\n",
        "    return \" \".join(tokens)\n",
        "\n",
        "# Apply preprocessing\n",
        "resume_df['processed_text'] = resume_df['Resume'].apply(preprocess_text)\n",
        "job_df['processed_text'] = job_df['Job Description'].apply(preprocess_text)\n",
        "\n",
        "# TF-IDF Vectorization\n",
        "tfidf_vectorizer = TfidfVectorizer()\n",
        "tfidf_resume = tfidf_vectorizer.fit_transform(resume_df['processed_text'])\n",
        "tfidf_jobs = tfidf_vectorizer.transform(job_df['processed_text'])\n",
        "\n",
        "# Compute cosine similarity\n",
        "cosine_similarities = cosine_similarity(tfidf_jobs, tfidf_resume)\n",
        "\n",
        "# Function to get top resumes\n",
        "def get_top_n_resumes(job_index, n=10):\n",
        "    scores = list(enumerate(cosine_similarities[job_index]))\n",
        "    scores.sort(key=lambda x: x[1], reverse=True)\n",
        "    top_resumes = [resume_df.iloc[i[0]]['Resume'] for i in scores[:n]]\n",
        "    return top_resumes\n",
        "\n",
        "# Streamlit UI\n",
        "st.title(\"Resume Matching System\")\n",
        "\n",
        "job_index = st.number_input(\"Enter Job Index (0 to N-1)\", min_value=0, max_value=len(job_df)-1, step=1)\n",
        "if st.button(\"Find Top Resumes\"):\n",
        "    top_resumes = get_top_n_resumes(job_index)\n",
        "    st.write(\"### Top 10 Resumes:\")\n",
        "    for i, res in enumerate(top_resumes, 1):\n",
        "        st.write(f\"**{i}.** {res}\")\n",
        "\n"
      ]
    }
  ]
}
